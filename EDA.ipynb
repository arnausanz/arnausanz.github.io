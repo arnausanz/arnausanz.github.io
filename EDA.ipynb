{
 "cells": [
  {
   "metadata": {},
   "cell_type": "markdown",
   "source": [
    "### Exploratory Data Analysis (EDA)\n",
    "\n",
    "This notebook is used to explore the data and understand the relationships between the variables. The main goal is to identify the most important variables that can be used to predict the reservoir levels. The dataset used in this notebook is the final dataset obtained from ACA and Meteocat."
   ],
   "id": "fe7e07f6dde7ce1e"
  },
  {
   "metadata": {
    "ExecuteTime": {
     "end_time": "2024-11-30T17:25:33.586037Z",
     "start_time": "2024-11-30T17:25:33.583332Z"
    }
   },
   "cell_type": "code",
   "source": [
    "# Import cell\n",
    "import pandas as pd\n",
    "import numpy as np\n",
    "import matplotlib.pyplot as plt"
   ],
   "id": "dfe71d2498b096ab",
   "outputs": [],
   "execution_count": 5
  },
  {
   "metadata": {},
   "cell_type": "markdown",
   "source": "#### ACA Dataset",
   "id": "6c775676145c769b"
  },
  {
   "metadata": {
    "ExecuteTime": {
     "end_time": "2024-11-30T17:24:29.570700Z",
     "start_time": "2024-11-30T17:24:29.559980Z"
    }
   },
   "cell_type": "code",
   "source": [
    "# Read the final and cleaned dataset from ACA (reservoirs)\n",
    "df_aca = pd.read_csv('model/final_data/processed_aca.csv')\n",
    "print(df_aca.head())"
   ],
   "id": "211e982aceb435f3",
   "outputs": [
    {
     "name": "stdout",
     "output_type": "stream",
     "text": [
      "         date      0     1     2      3      4     5       6      7      8\n",
      "0  2000-01-01  31.02  5.61  1.48  19.14  63.14  6.53  122.26  90.41  29.27\n",
      "1  2000-01-02  31.02  5.61  1.48  19.02  63.53  6.53  122.33  90.35  29.35\n",
      "2  2000-01-03  31.02  5.60  1.48  18.90  63.31  6.54  122.11  90.30  29.43\n",
      "3  2000-01-04  31.02  5.60  1.47  18.78  63.20  6.54  122.37  90.24  29.51\n",
      "4  2000-01-05  31.04  5.61  1.46  18.66  63.23  6.54  121.82  90.17  29.59\n"
     ]
    }
   ],
   "execution_count": 4
  },
  {
   "metadata": {
    "ExecuteTime": {
     "end_time": "2024-11-30T17:26:41.130249Z",
     "start_time": "2024-11-30T17:26:41.126230Z"
    }
   },
   "cell_type": "code",
   "source": [
    "# Read the relationship between sensor codes and the reservoir names for further understanding\n",
    "df_sensors = pd.read_csv('model/final_data/sensor_codes.csv')\n",
    "print(df_sensors.head())"
   ],
   "id": "2196949770e5031a",
   "outputs": [
    {
     "name": "stdout",
     "output_type": "stream",
     "text": [
      "   sensor_code                                             name\n",
      "0            0        Embassament de Darnius Boadella (Darnius)\n",
      "1            1      Embassament de Foix (Castellet i la Gornal)\n",
      "2            2                       Embassament de Riudecanyes\n",
      "3            3  Embassament de Sant Ponç (Clariana de Cardener)\n",
      "4            4             Embassament de Sau (Vilanova de Sau)\n"
     ]
    }
   ],
   "execution_count": 7
  },
  {
   "metadata": {},
   "cell_type": "code",
   "outputs": [],
   "execution_count": null,
   "source": "",
   "id": "959343447efe4565"
  },
  {
   "metadata": {},
   "cell_type": "code",
   "outputs": [],
   "execution_count": null,
   "source": "",
   "id": "3230015b98557b5"
  },
  {
   "metadata": {},
   "cell_type": "markdown",
   "source": "#### Meteocat Dataset",
   "id": "cc0457e814d55aba"
  },
  {
   "metadata": {
    "ExecuteTime": {
     "end_time": "2024-11-30T17:27:43.711947Z",
     "start_time": "2024-11-30T17:27:43.610198Z"
    }
   },
   "cell_type": "code",
   "source": [
    "# Read the final and cleaned dataset from Meteocat (stations)\n",
    "df_meteocat = pd.read_csv('model/final_data/processed_meteocat.csv')\n",
    "print(df_meteocat.head())"
   ],
   "id": "5b6811f0bfbd1d04",
   "outputs": [
    {
     "name": "stdout",
     "output_type": "stream",
     "text": [
      "         date  1000_C6  1000_C7  1000_C8  1000_C9  1000_CC  1000_CD  1000_CE  \\\n",
      "0  2000-01-01      1.4      3.4      2.8      8.7      2.3      0.8      6.3   \n",
      "1  2000-01-02      1.4      4.2      3.2      7.7      2.8      0.9      7.0   \n",
      "2  2000-01-03      1.4      4.8      3.4      7.2      2.3      1.0      6.7   \n",
      "3  2000-01-04      1.4      1.8      1.4      6.0      0.2      1.3      6.3   \n",
      "4  2000-01-05      1.4      0.4      0.2      4.7      1.7      1.0      5.4   \n",
      "\n",
      "   1000_CG  1000_CI  ...  1600_DG  1600_DP  1600_Z1  1600_Z2  1600_Z3  \\\n",
      "0      1.8      0.0  ...      1.0      0.0    104.0      3.0     17.0   \n",
      "1      2.2      0.5  ...      0.0      0.0    102.0      3.0     15.0   \n",
      "2      4.9      1.0  ...      0.0      0.0    100.0      3.0     17.0   \n",
      "3      7.6      0.4  ...      0.0      0.0    100.0      3.0     17.0   \n",
      "4      5.6      1.1  ...      0.0      0.0     96.0      3.0     15.0   \n",
      "\n",
      "   1600_Z5  1600_Z6  1600_Z7  1600_Z9  1600_ZB  \n",
      "0     58.0      0.0     37.0     97.0      0.0  \n",
      "1     58.0      0.0     37.0     97.0      0.0  \n",
      "2     58.0      0.0     37.0     97.0      0.0  \n",
      "3     58.0      0.0     37.0     97.0      0.0  \n",
      "4     58.0      0.0     37.0     97.0      0.0  \n",
      "\n",
      "[5 rows x 259 columns]\n"
     ]
    }
   ],
   "execution_count": 8
  },
  {
   "metadata": {
    "ExecuteTime": {
     "end_time": "2024-11-30T17:27:53.693953Z",
     "start_time": "2024-11-30T17:27:53.688933Z"
    }
   },
   "cell_type": "code",
   "source": [
    "# Read the relationship between station codes and the station names for further understanding\n",
    "df_stations = pd.read_csv('model/final_data/station_codes.csv')\n",
    "print(df_stations.head())"
   ],
   "id": "1901b5a0e3e36867",
   "outputs": [
    {
     "name": "stdout",
     "output_type": "stream",
     "text": [
      "   station_code codiEstacio\n",
      "0             1          C7\n",
      "1             2          C8\n",
      "2             3          C9\n",
      "3             4          CC\n",
      "4             5          CD\n"
     ]
    }
   ],
   "execution_count": 9
  },
  {
   "metadata": {},
   "cell_type": "code",
   "outputs": [],
   "execution_count": null,
   "source": "",
   "id": "e34c3fad2bbaffc4"
  },
  {
   "metadata": {},
   "cell_type": "code",
   "outputs": [],
   "execution_count": null,
   "source": "",
   "id": "e258a90c22191741"
  }
 ],
 "metadata": {
  "kernelspec": {
   "display_name": "Python 3",
   "language": "python",
   "name": "python3"
  },
  "language_info": {
   "codemirror_mode": {
    "name": "ipython",
    "version": 2
   },
   "file_extension": ".py",
   "mimetype": "text/x-python",
   "name": "python",
   "nbconvert_exporter": "python",
   "pygments_lexer": "ipython2",
   "version": "2.7.6"
  }
 },
 "nbformat": 4,
 "nbformat_minor": 5
}
