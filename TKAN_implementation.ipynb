{
 "cells": [
  {
   "cell_type": "code",
   "id": "initial_id",
   "metadata": {
    "collapsed": true,
    "ExecuteTime": {
     "end_time": "2024-11-17T07:55:31.013155Z",
     "start_time": "2024-11-17T07:55:31.003650Z"
    }
   },
   "source": [
    "import pandas as pd\n",
    "\n",
    "# TEST NOTEBOOK TO IMPLEMENT THE TKAN MODEL\n",
    "\"\"\"\n",
    "from model.TKAN import Model\n",
    "a = Model()\n",
    "a.compile_execute_test()\n",
    "\"\"\""
   ],
   "outputs": [
    {
     "data": {
      "text/plain": [
       "'\\nfrom model.TKAN import Model\\na = Model()\\na.compile_execute_test()\\n'"
      ]
     },
     "execution_count": 3,
     "metadata": {},
     "output_type": "execute_result"
    }
   ],
   "execution_count": 3
  },
  {
   "metadata": {
    "ExecuteTime": {
     "end_time": "2024-11-18T17:47:29.134137Z",
     "start_time": "2024-11-18T17:47:24.718067Z"
    }
   },
   "cell_type": "code",
   "source": [
    "\"\"\"\n",
    "import os\n",
    "import pandas as pd\n",
    "from datetime import datetime\n",
    "\n",
    "# Define the directory containing the Meteocat files\n",
    "meteocat_dir = 'data/processed/meteocat/'\n",
    "\n",
    "# Get the current month and year\n",
    "current_month = datetime.now().month\n",
    "current_year = datetime.now().year\n",
    "\n",
    "# Loop through all files in the Meteocat directory\n",
    "for filename in os.listdir(meteocat_dir):\n",
    "    if 'daily_all' in filename and filename.endswith('.csv'):\n",
    "        file_path = os.path.join(meteocat_dir, filename)\n",
    "\n",
    "        # Read the CSV file into a DataFrame\n",
    "        df = pd.read_csv(file_path)\n",
    "\n",
    "        # Convert the 'data' column to datetime\n",
    "        df['data'] = pd.to_datetime(df['data'], format='%Y-%m-%d')\n",
    "\n",
    "        # Filter out the rows for the current month and year\n",
    "        df_filtered = df[~((df['data'].dt.month == current_month) & (df['data'].dt.year == current_year))]\n",
    "\n",
    "        # Save the filtered DataFrame back to the CSV file\n",
    "        df_filtered.to_csv(file_path, index=False)\n",
    "\"\"\""
   ],
   "id": "2a88bd9a1d98cb04",
   "outputs": [],
   "execution_count": 1
  }
 ],
 "metadata": {
  "kernelspec": {
   "display_name": "Python 3",
   "language": "python",
   "name": "python3"
  },
  "language_info": {
   "codemirror_mode": {
    "name": "ipython",
    "version": 2
   },
   "file_extension": ".py",
   "mimetype": "text/x-python",
   "name": "python",
   "nbconvert_exporter": "python",
   "pygments_lexer": "ipython2",
   "version": "2.7.6"
  }
 },
 "nbformat": 4,
 "nbformat_minor": 5
}
