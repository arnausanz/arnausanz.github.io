{
 "cells": [
  {
   "cell_type": "code",
   "id": "initial_id",
   "metadata": {
    "collapsed": true,
    "ExecuteTime": {
     "end_time": "2024-11-17T07:55:31.013155Z",
     "start_time": "2024-11-17T07:55:31.003650Z"
    }
   },
   "source": [
    "import pandas as pd\n",
    "\n",
    "# TEST NOTEBOOK TO IMPLEMENT THE TKAN MODEL\n",
    "\"\"\"\n",
    "from model.TKAN import Model\n",
    "a = Model()\n",
    "a.compile_execute_test()\n",
    "\"\"\""
   ],
   "outputs": [
    {
     "data": {
      "text/plain": [
       "'\\nfrom model.TKAN import Model\\na = Model()\\na.compile_execute_test()\\n'"
      ]
     },
     "execution_count": 3,
     "metadata": {},
     "output_type": "execute_result"
    }
   ],
   "execution_count": 3
  }
 ],
 "metadata": {
  "kernelspec": {
   "display_name": "Python 3",
   "language": "python",
   "name": "python3"
  },
  "language_info": {
   "codemirror_mode": {
    "name": "ipython",
    "version": 2
   },
   "file_extension": ".py",
   "mimetype": "text/x-python",
   "name": "python",
   "nbconvert_exporter": "python",
   "pygments_lexer": "ipython2",
   "version": "2.7.6"
  }
 },
 "nbformat": 4,
 "nbformat_minor": 5
}
