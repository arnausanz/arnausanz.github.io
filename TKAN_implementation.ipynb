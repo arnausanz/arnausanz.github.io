{
 "cells": [
  {
   "cell_type": "code",
   "id": "initial_id",
   "metadata": {
    "collapsed": true,
    "ExecuteTime": {
     "end_time": "2024-11-06T18:19:07.415711Z",
     "start_time": "2024-11-06T18:19:07.411701Z"
    }
   },
   "source": "from model.TKAN import Model",
   "outputs": [],
   "execution_count": 9
  },
  {
   "metadata": {
    "ExecuteTime": {
     "end_time": "2024-11-06T18:19:08.163417Z",
     "start_time": "2024-11-06T18:19:07.979922Z"
    }
   },
   "cell_type": "code",
   "source": "a = Model()",
   "id": "372bc313baf4375d",
   "outputs": [],
   "execution_count": 10
  },
  {
   "metadata": {
    "ExecuteTime": {
     "end_time": "2024-11-06T18:19:27.840044Z",
     "start_time": "2024-11-06T18:19:09.958011Z"
    }
   },
   "cell_type": "code",
   "source": "a.compile_execute_test()",
   "id": "c127dec7d9dd19b8",
   "outputs": [
    {
     "name": "stdout",
     "output_type": "stream",
     "text": [
      "Epoch 1/10\n",
      "\u001B[1m4/4\u001B[0m \u001B[32m━━━━━━━━━━━━━━━━━━━━\u001B[0m\u001B[37m\u001B[0m \u001B[1m13s\u001B[0m 83ms/step - loss: 0.2482\n",
      "Epoch 2/10\n",
      "\u001B[1m4/4\u001B[0m \u001B[32m━━━━━━━━━━━━━━━━━━━━\u001B[0m\u001B[37m\u001B[0m \u001B[1m0s\u001B[0m 56ms/step - loss: 0.1447\n",
      "Epoch 3/10\n",
      "\u001B[1m4/4\u001B[0m \u001B[32m━━━━━━━━━━━━━━━━━━━━\u001B[0m\u001B[37m\u001B[0m \u001B[1m0s\u001B[0m 119ms/step - loss: 0.1113\n",
      "Epoch 4/10\n",
      "\u001B[1m4/4\u001B[0m \u001B[32m━━━━━━━━━━━━━━━━━━━━\u001B[0m\u001B[37m\u001B[0m \u001B[1m1s\u001B[0m 125ms/step - loss: 0.1065\n",
      "Epoch 5/10\n",
      "\u001B[1m4/4\u001B[0m \u001B[32m━━━━━━━━━━━━━━━━━━━━\u001B[0m\u001B[37m\u001B[0m \u001B[1m1s\u001B[0m 126ms/step - loss: 0.1052\n",
      "Epoch 6/10\n",
      "\u001B[1m4/4\u001B[0m \u001B[32m━━━━━━━━━━━━━━━━━━━━\u001B[0m\u001B[37m\u001B[0m \u001B[1m1s\u001B[0m 122ms/step - loss: 0.1079\n",
      "Epoch 7/10\n",
      "\u001B[1m4/4\u001B[0m \u001B[32m━━━━━━━━━━━━━━━━━━━━\u001B[0m\u001B[37m\u001B[0m \u001B[1m1s\u001B[0m 123ms/step - loss: 0.0955\n",
      "Epoch 8/10\n",
      "\u001B[1m4/4\u001B[0m \u001B[32m━━━━━━━━━━━━━━━━━━━━\u001B[0m\u001B[37m\u001B[0m \u001B[1m1s\u001B[0m 123ms/step - loss: 0.1014\n",
      "Epoch 9/10\n",
      "\u001B[1m4/4\u001B[0m \u001B[32m━━━━━━━━━━━━━━━━━━━━\u001B[0m\u001B[37m\u001B[0m \u001B[1m1s\u001B[0m 125ms/step - loss: 0.0944\n",
      "Epoch 10/10\n",
      "\u001B[1m4/4\u001B[0m \u001B[32m━━━━━━━━━━━━━━━━━━━━\u001B[0m\u001B[37m\u001B[0m \u001B[1m1s\u001B[0m 124ms/step - loss: 0.0978\n"
     ]
    }
   ],
   "execution_count": 11
  },
  {
   "metadata": {
    "ExecuteTime": {
     "end_time": "2024-11-06T18:24:46.643146Z",
     "start_time": "2024-11-06T18:24:44.786734Z"
    }
   },
   "cell_type": "code",
   "source": [
    "import DataExtraction.meteocat as meteocat\n",
    "meteocat.print_api_usage()"
   ],
   "id": "b4aa906ce8d154e1",
   "outputs": [
    {
     "name": "stdout",
     "output_type": "stream",
     "text": [
      "{'client': {'nom': '488 Mireia Miró Fatás UPC'}, 'plans': [{'nom': 'Referència Bàsic', 'periode': 'Mensual', 'maxConsultes': 2000, 'consultesRestants': 2000, 'consultesRealitzades': 0}, {'nom': 'Quota', 'periode': 'Mensual', 'maxConsultes': 300, 'consultesRestants': 300, 'consultesRealitzades': 0}, {'nom': 'XDDE_250', 'periode': 'Mensual', 'maxConsultes': 250, 'consultesRestants': 250, 'consultesRealitzades': 0}, {'nom': 'XEMA_750 OD', 'periode': 'Mensual', 'maxConsultes': 750, 'consultesRestants': 750, 'consultesRealitzades': 0}, {'nom': 'Predicció_100', 'periode': 'Mensual', 'maxConsultes': 100, 'consultesRestants': 100, 'consultesRealitzades': 0}]}\n"
     ]
    }
   ],
   "execution_count": 13
  },
  {
   "metadata": {},
   "cell_type": "code",
   "outputs": [],
   "execution_count": null,
   "source": "",
   "id": "b91c3f8f15329338"
  }
 ],
 "metadata": {
  "kernelspec": {
   "display_name": "Python 3",
   "language": "python",
   "name": "python3"
  },
  "language_info": {
   "codemirror_mode": {
    "name": "ipython",
    "version": 2
   },
   "file_extension": ".py",
   "mimetype": "text/x-python",
   "name": "python",
   "nbconvert_exporter": "python",
   "pygments_lexer": "ipython2",
   "version": "2.7.6"
  }
 },
 "nbformat": 4,
 "nbformat_minor": 5
}
