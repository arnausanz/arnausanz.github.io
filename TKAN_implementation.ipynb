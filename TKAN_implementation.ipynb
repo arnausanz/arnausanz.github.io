{
 "cells": [
  {
   "cell_type": "code",
   "id": "initial_id",
   "metadata": {
    "collapsed": true,
    "ExecuteTime": {
     "end_time": "2024-11-09T10:05:14.250176Z",
     "start_time": "2024-11-09T10:05:11.042893Z"
    }
   },
   "source": "from model.TKAN import Model",
   "outputs": [],
   "execution_count": 1
  },
  {
   "metadata": {
    "ExecuteTime": {
     "end_time": "2024-11-09T10:05:14.393848Z",
     "start_time": "2024-11-09T10:05:14.260179Z"
    }
   },
   "cell_type": "code",
   "source": "a = Model()",
   "id": "372bc313baf4375d",
   "outputs": [],
   "execution_count": 2
  },
  {
   "metadata": {
    "ExecuteTime": {
     "end_time": "2024-11-09T10:05:35.235964Z",
     "start_time": "2024-11-09T10:05:14.460532Z"
    }
   },
   "cell_type": "code",
   "source": "a.compile_execute_test()",
   "id": "c127dec7d9dd19b8",
   "outputs": [
    {
     "name": "stdout",
     "output_type": "stream",
     "text": [
      "Epoch 1/10\n",
      "\u001B[1m4/4\u001B[0m \u001B[32m━━━━━━━━━━━━━━━━━━━━\u001B[0m\u001B[37m\u001B[0m \u001B[1m16s\u001B[0m 61ms/step - loss: 0.4630\n",
      "Epoch 2/10\n",
      "\u001B[1m4/4\u001B[0m \u001B[32m━━━━━━━━━━━━━━━━━━━━\u001B[0m\u001B[37m\u001B[0m \u001B[1m0s\u001B[0m 70ms/step - loss: 0.1630\n",
      "Epoch 3/10\n",
      "\u001B[1m4/4\u001B[0m \u001B[32m━━━━━━━━━━━━━━━━━━━━\u001B[0m\u001B[37m\u001B[0m \u001B[1m0s\u001B[0m 133ms/step - loss: 0.1096\n",
      "Epoch 4/10\n",
      "\u001B[1m4/4\u001B[0m \u001B[32m━━━━━━━━━━━━━━━━━━━━\u001B[0m\u001B[37m\u001B[0m \u001B[1m1s\u001B[0m 129ms/step - loss: 0.1086\n",
      "Epoch 5/10\n",
      "\u001B[1m4/4\u001B[0m \u001B[32m━━━━━━━━━━━━━━━━━━━━\u001B[0m\u001B[37m\u001B[0m \u001B[1m1s\u001B[0m 127ms/step - loss: 0.0981\n",
      "Epoch 6/10\n",
      "\u001B[1m4/4\u001B[0m \u001B[32m━━━━━━━━━━━━━━━━━━━━\u001B[0m\u001B[37m\u001B[0m \u001B[1m1s\u001B[0m 128ms/step - loss: 0.0888\n",
      "Epoch 7/10\n",
      "\u001B[1m4/4\u001B[0m \u001B[32m━━━━━━━━━━━━━━━━━━━━\u001B[0m\u001B[37m\u001B[0m \u001B[1m1s\u001B[0m 125ms/step - loss: 0.0941\n",
      "Epoch 8/10\n",
      "\u001B[1m4/4\u001B[0m \u001B[32m━━━━━━━━━━━━━━━━━━━━\u001B[0m\u001B[37m\u001B[0m \u001B[1m1s\u001B[0m 125ms/step - loss: 0.0878\n",
      "Epoch 9/10\n",
      "\u001B[1m4/4\u001B[0m \u001B[32m━━━━━━━━━━━━━━━━━━━━\u001B[0m\u001B[37m\u001B[0m \u001B[1m1s\u001B[0m 123ms/step - loss: 0.0900\n",
      "Epoch 10/10\n",
      "\u001B[1m4/4\u001B[0m \u001B[32m━━━━━━━━━━━━━━━━━━━━\u001B[0m\u001B[37m\u001B[0m \u001B[1m1s\u001B[0m 128ms/step - loss: 0.0888\n"
     ]
    }
   ],
   "execution_count": 3
  },
  {
   "metadata": {
    "ExecuteTime": {
     "end_time": "2024-11-09T11:02:19.733771Z",
     "start_time": "2024-11-09T11:02:18.216394Z"
    }
   },
   "cell_type": "code",
   "source": [
    "import DataExtraction.meteocat as meteocat\n",
    "meteocat.print_api_usage()"
   ],
   "id": "b4aa906ce8d154e1",
   "outputs": [
    {
     "name": "stdout",
     "output_type": "stream",
     "text": [
      "{'client': {'nom': '488 Mireia Miró Fatás UPC'}, 'plans': [{'nom': 'Referència Bàsic', 'periode': 'Mensual', 'maxConsultes': 2000, 'consultesRestants': 2000, 'consultesRealitzades': 0}, {'nom': 'Quota', 'periode': 'Mensual', 'maxConsultes': 300, 'consultesRestants': 298, 'consultesRealitzades': 2}, {'nom': 'XDDE_250', 'periode': 'Mensual', 'maxConsultes': 250, 'consultesRestants': 250, 'consultesRealitzades': 0}, {'nom': 'XEMA_750 OD', 'periode': 'Mensual', 'maxConsultes': 750, 'consultesRestants': 742, 'consultesRealitzades': 8}, {'nom': 'Predicció_100', 'periode': 'Mensual', 'maxConsultes': 100, 'consultesRestants': 100, 'consultesRealitzades': 0}]}\n"
     ]
    }
   ],
   "execution_count": 5
  },
  {
   "metadata": {
    "ExecuteTime": {
     "end_time": "2024-11-09T10:05:37.010722Z",
     "start_time": "2024-11-09T10:05:37.008543Z"
    }
   },
   "cell_type": "code",
   "source": "",
   "id": "b91c3f8f15329338",
   "outputs": [],
   "execution_count": null
  }
 ],
 "metadata": {
  "kernelspec": {
   "display_name": "Python 3",
   "language": "python",
   "name": "python3"
  },
  "language_info": {
   "codemirror_mode": {
    "name": "ipython",
    "version": 2
   },
   "file_extension": ".py",
   "mimetype": "text/x-python",
   "name": "python",
   "nbconvert_exporter": "python",
   "pygments_lexer": "ipython2",
   "version": "2.7.6"
  }
 },
 "nbformat": 4,
 "nbformat_minor": 5
}
