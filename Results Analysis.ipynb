{
 "cells": [
  {
   "cell_type": "code",
   "id": "initial_id",
   "metadata": {
    "collapsed": true,
    "ExecuteTime": {
     "end_time": "2024-12-09T19:10:50.544702Z",
     "start_time": "2024-12-09T19:10:48.860381Z"
    }
   },
   "source": [
    "import matplotlib.pyplot as plt\n",
    "import numpy as np\n",
    "import pandas as pd\n",
    "from model import model\n",
    "from DataExtraction import utils\n",
    "import os\n",
    "import ujson"
   ],
   "outputs": [],
   "execution_count": 1
  },
  {
   "metadata": {
    "ExecuteTime": {
     "end_time": "2024-12-09T19:10:50.699365Z",
     "start_time": "2024-12-09T19:10:50.549301Z"
    }
   },
   "cell_type": "code",
   "source": [
    "# Load, from each model, the results, the model configuration and the evaluation metrics\n",
    "os.chdir(utils.get_root_dir() + '/model/final_models')\n",
    "n_models = len([name for name in os.listdir('.') if 'model_' in name])\n",
    "training_stats, testing_stats, model_results, model_info = {}, {}, {}, {}\n",
    "for i in range(1, 8):\n",
    "    print(f'Loading model {i}')\n",
    "    m = model.load_model(f'model_{i}')\n",
    "    model_info[m.model_config.model_name] = m.model_config.__dict__\n",
    "    with open(m.model_config.model_src + '/train/training_stats.json', 'r') as f:\n",
    "        training_stats[m.model_config.model_name] = ujson.load(f)\n",
    "    with open(m.model_config.model_src + '/test/losses.json', 'r') as f:\n",
    "        testing_stats[m.model_config.model_name] = ujson.load(f)\n",
    "    model_results[m.model_config.model_name] = np.load(m.model_config.model_src + '/test/y_pred.npy'), np.load(m.model_config.model_src + '/test/y_test.npy')\n",
    "    del m"
   ],
   "id": "ac151020b92b2de4",
   "outputs": [
    {
     "name": "stdout",
     "output_type": "stream",
     "text": [
      "Loading model 1\n",
      "Model model_1 created\n",
      "Loading model 2\n",
      "Model model_2 created\n",
      "Loading model 3\n",
      "Model model_3 created\n",
      "Loading model 4\n",
      "Model model_4 created\n",
      "Loading model 5\n",
      "Model model_5 created\n",
      "Loading model 6\n",
      "Model model_6 created\n",
      "Loading model 7\n",
      "Model model_7 created\n"
     ]
    }
   ],
   "execution_count": 2
  },
  {
   "metadata": {
    "ExecuteTime": {
     "end_time": "2024-12-09T19:10:50.742103Z",
     "start_time": "2024-12-09T19:10:50.739147Z"
    }
   },
   "cell_type": "code",
   "source": [
    "def get_model_information(model_name, training_stats, testing_stats, model_results, model_info, results_df):\n",
    "    model_type = model_info['model_type']\n",
    "    temporal_window = model_info['window_size'] if model_type == 'LSTM' else str(model_info['window_size']) + '/' + str(model_info['subwindow_size'])\n",
    "    training_time = sum(training_stats['epoch_times'])\n",
    "    # num_params = sum(model_info['num_parameters'])\n",
    "    epoch_num = max(training_stats['epoch_num'])\n",
    "    layers_blocks = model_info['num_layers'] if model_type == 'LSTM' else model_info['xLSTM_config']['num_blocks']\n",
    "    batch_size = model_info['batch_size']\n",
    "    dropout = model_info['dropout']\n",
    "    learning_rate = model_info['lr']\n",
    "    mse = testing_stats['total']['mse']\n",
    "    mae = testing_stats['total']['mae']\n",
    "    rmse = testing_stats['total']['rmse']\n",
    "    r2 = testing_stats['total']['r2']\n",
    "    results_df[model_name] = {\n",
    "        'Type': model_type,\n",
    "        'Temporal Window': temporal_window,\n",
    "        'Training Time': training_time,\n",
    "        # 'Number of Parameters': num_params,\n",
    "        'Number of Epochs': epoch_num,\n",
    "        'Layers/Blocks': layers_blocks,\n",
    "        'Batch Size': batch_size,\n",
    "        'Dropout': dropout,\n",
    "        'Learning Rate': learning_rate,\n",
    "        'MSE': mse,\n",
    "        'MAE': mae,\n",
    "        'RMSE': rmse,\n",
    "        'R2': r2\n",
    "    }"
   ],
   "id": "ee9a7748ab769250",
   "outputs": [],
   "execution_count": 3
  },
  {
   "metadata": {
    "ExecuteTime": {
     "end_time": "2024-12-09T19:10:50.749533Z",
     "start_time": "2024-12-09T19:10:50.747156Z"
    }
   },
   "cell_type": "code",
   "source": "final_df = pd.DataFrame(index=['Type', 'Temporal Window', 'Training Time', 'Number of Epochs', 'Layers/Blocks', 'Batch Size', 'Dropout', 'Learning Rate', 'MSE', 'MAE', 'RMSE', 'R2'])",
   "id": "fb9a5de1e99d0c9f",
   "outputs": [],
   "execution_count": 4
  },
  {
   "metadata": {
    "ExecuteTime": {
     "end_time": "2024-12-09T19:10:50.758946Z",
     "start_time": "2024-12-09T19:10:50.755756Z"
    }
   },
   "cell_type": "code",
   "source": [
    "for model_name in model_info.keys():\n",
    "    get_model_information(model_name, training_stats[model_name], testing_stats[model_name], model_results[model_name], model_info[model_name], final_df)"
   ],
   "id": "9e043d5ffb34e20e",
   "outputs": [],
   "execution_count": 5
  },
  {
   "metadata": {
    "ExecuteTime": {
     "end_time": "2024-12-09T19:10:50.770887Z",
     "start_time": "2024-12-09T19:10:50.765352Z"
    }
   },
   "cell_type": "code",
   "source": "final_df",
   "id": "75cd834436b36a22",
   "outputs": [
    {
     "data": {
      "text/plain": [
       "                      model_1      model_2      model_3      model_4  \\\n",
       "Type                     LSTM         LSTM         LSTM         LSTM   \n",
       "Temporal Window          None         None         None         None   \n",
       "Training Time     2132.929452  2137.663442  2094.973156  2047.336608   \n",
       "Number of Epochs          200          200          200          200   \n",
       "Layers/Blocks               5            5            5            5   \n",
       "Batch Size                 24           24           24           24   \n",
       "Dropout                   0.2          0.2          0.2          0.2   \n",
       "Learning Rate         0.00001      0.00001      0.00001      0.00001   \n",
       "MSE                  0.039331     0.042765     0.084506     0.151322   \n",
       "MAE                  0.143567     0.161574     0.237904     0.317241   \n",
       "RMSE                 0.189116     0.204044     0.287503     0.381392   \n",
       "R2                   0.470168     0.403783    -0.036205    -0.738824   \n",
       "\n",
       "                      model_5      model_6      model_7  \n",
       "Type                     LSTM         LSTM         LSTM  \n",
       "Temporal Window          None         None         None  \n",
       "Training Time     2631.627446  2638.274787  2575.797658  \n",
       "Number of Epochs          350          350          350  \n",
       "Layers/Blocks               3            3            3  \n",
       "Batch Size                 64           64           64  \n",
       "Dropout                   0.3          0.3          0.3  \n",
       "Learning Rate         0.00001      0.00001      0.00001  \n",
       "MSE                  0.019271     0.060586     0.048653  \n",
       "MAE                  0.099551      0.19361     0.178644  \n",
       "RMSE                 0.130454     0.240833     0.219111  \n",
       "R2                   0.656504     0.198312     0.367177  "
      ],
      "text/html": [
       "<div>\n",
       "<style scoped>\n",
       "    .dataframe tbody tr th:only-of-type {\n",
       "        vertical-align: middle;\n",
       "    }\n",
       "\n",
       "    .dataframe tbody tr th {\n",
       "        vertical-align: top;\n",
       "    }\n",
       "\n",
       "    .dataframe thead th {\n",
       "        text-align: right;\n",
       "    }\n",
       "</style>\n",
       "<table border=\"1\" class=\"dataframe\">\n",
       "  <thead>\n",
       "    <tr style=\"text-align: right;\">\n",
       "      <th></th>\n",
       "      <th>model_1</th>\n",
       "      <th>model_2</th>\n",
       "      <th>model_3</th>\n",
       "      <th>model_4</th>\n",
       "      <th>model_5</th>\n",
       "      <th>model_6</th>\n",
       "      <th>model_7</th>\n",
       "    </tr>\n",
       "  </thead>\n",
       "  <tbody>\n",
       "    <tr>\n",
       "      <th>Type</th>\n",
       "      <td>LSTM</td>\n",
       "      <td>LSTM</td>\n",
       "      <td>LSTM</td>\n",
       "      <td>LSTM</td>\n",
       "      <td>LSTM</td>\n",
       "      <td>LSTM</td>\n",
       "      <td>LSTM</td>\n",
       "    </tr>\n",
       "    <tr>\n",
       "      <th>Temporal Window</th>\n",
       "      <td>None</td>\n",
       "      <td>None</td>\n",
       "      <td>None</td>\n",
       "      <td>None</td>\n",
       "      <td>None</td>\n",
       "      <td>None</td>\n",
       "      <td>None</td>\n",
       "    </tr>\n",
       "    <tr>\n",
       "      <th>Training Time</th>\n",
       "      <td>2132.929452</td>\n",
       "      <td>2137.663442</td>\n",
       "      <td>2094.973156</td>\n",
       "      <td>2047.336608</td>\n",
       "      <td>2631.627446</td>\n",
       "      <td>2638.274787</td>\n",
       "      <td>2575.797658</td>\n",
       "    </tr>\n",
       "    <tr>\n",
       "      <th>Number of Epochs</th>\n",
       "      <td>200</td>\n",
       "      <td>200</td>\n",
       "      <td>200</td>\n",
       "      <td>200</td>\n",
       "      <td>350</td>\n",
       "      <td>350</td>\n",
       "      <td>350</td>\n",
       "    </tr>\n",
       "    <tr>\n",
       "      <th>Layers/Blocks</th>\n",
       "      <td>5</td>\n",
       "      <td>5</td>\n",
       "      <td>5</td>\n",
       "      <td>5</td>\n",
       "      <td>3</td>\n",
       "      <td>3</td>\n",
       "      <td>3</td>\n",
       "    </tr>\n",
       "    <tr>\n",
       "      <th>Batch Size</th>\n",
       "      <td>24</td>\n",
       "      <td>24</td>\n",
       "      <td>24</td>\n",
       "      <td>24</td>\n",
       "      <td>64</td>\n",
       "      <td>64</td>\n",
       "      <td>64</td>\n",
       "    </tr>\n",
       "    <tr>\n",
       "      <th>Dropout</th>\n",
       "      <td>0.2</td>\n",
       "      <td>0.2</td>\n",
       "      <td>0.2</td>\n",
       "      <td>0.2</td>\n",
       "      <td>0.3</td>\n",
       "      <td>0.3</td>\n",
       "      <td>0.3</td>\n",
       "    </tr>\n",
       "    <tr>\n",
       "      <th>Learning Rate</th>\n",
       "      <td>0.00001</td>\n",
       "      <td>0.00001</td>\n",
       "      <td>0.00001</td>\n",
       "      <td>0.00001</td>\n",
       "      <td>0.00001</td>\n",
       "      <td>0.00001</td>\n",
       "      <td>0.00001</td>\n",
       "    </tr>\n",
       "    <tr>\n",
       "      <th>MSE</th>\n",
       "      <td>0.039331</td>\n",
       "      <td>0.042765</td>\n",
       "      <td>0.084506</td>\n",
       "      <td>0.151322</td>\n",
       "      <td>0.019271</td>\n",
       "      <td>0.060586</td>\n",
       "      <td>0.048653</td>\n",
       "    </tr>\n",
       "    <tr>\n",
       "      <th>MAE</th>\n",
       "      <td>0.143567</td>\n",
       "      <td>0.161574</td>\n",
       "      <td>0.237904</td>\n",
       "      <td>0.317241</td>\n",
       "      <td>0.099551</td>\n",
       "      <td>0.19361</td>\n",
       "      <td>0.178644</td>\n",
       "    </tr>\n",
       "    <tr>\n",
       "      <th>RMSE</th>\n",
       "      <td>0.189116</td>\n",
       "      <td>0.204044</td>\n",
       "      <td>0.287503</td>\n",
       "      <td>0.381392</td>\n",
       "      <td>0.130454</td>\n",
       "      <td>0.240833</td>\n",
       "      <td>0.219111</td>\n",
       "    </tr>\n",
       "    <tr>\n",
       "      <th>R2</th>\n",
       "      <td>0.470168</td>\n",
       "      <td>0.403783</td>\n",
       "      <td>-0.036205</td>\n",
       "      <td>-0.738824</td>\n",
       "      <td>0.656504</td>\n",
       "      <td>0.198312</td>\n",
       "      <td>0.367177</td>\n",
       "    </tr>\n",
       "  </tbody>\n",
       "</table>\n",
       "</div>"
      ]
     },
     "execution_count": 6,
     "metadata": {},
     "output_type": "execute_result"
    }
   ],
   "execution_count": 6
  },
  {
   "metadata": {
    "ExecuteTime": {
     "end_time": "2024-12-09T19:10:50.794139Z",
     "start_time": "2024-12-09T19:10:50.792729Z"
    }
   },
   "cell_type": "code",
   "source": "",
   "id": "9c7583f5b9a9ce07",
   "outputs": [],
   "execution_count": null
  }
 ],
 "metadata": {
  "kernelspec": {
   "display_name": "Python 3",
   "language": "python",
   "name": "python3"
  },
  "language_info": {
   "codemirror_mode": {
    "name": "ipython",
    "version": 2
   },
   "file_extension": ".py",
   "mimetype": "text/x-python",
   "name": "python",
   "nbconvert_exporter": "python",
   "pygments_lexer": "ipython2",
   "version": "2.7.6"
  }
 },
 "nbformat": 4,
 "nbformat_minor": 5
}
