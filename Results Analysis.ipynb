{
 "cells": [
  {
   "cell_type": "code",
   "id": "initial_id",
   "metadata": {
    "collapsed": true,
    "jupyter": {
     "is_executing": true
    }
   },
   "source": [
    "import matplotlib.pyplot as plt\n",
    "import numpy as np\n",
    "import pandas as pd\n",
    "from model import model\n",
    "from DataExtraction import utils\n",
    "import os"
   ],
   "outputs": [],
   "execution_count": null
  },
  {
   "metadata": {},
   "cell_type": "code",
   "outputs": [],
   "execution_count": null,
   "source": [
    "# Load, from each model, the results, the model configuration and the evaluation metrics\n",
    "os.chdir(utils.get_root_dir() + '/model/final_models')\n",
    "n_models = len([name for name in os.listdir('.') if 'model_' in name])\n",
    "training_stats, testing_stats, model_results, model_info = {}, {}, {}, {}\n",
    "for i in range(n_models):\n",
    "    print(f'Loading model {i}')\n",
    "    m = model.load_model(f'model_{i}')\n",
    "    model_info[m.model_name] = m.model_config.variables\n",
    "    training_stats[m.model_name] = pd.read_csv(m.model_config.model_src + '/train/training_stats.csv')\n",
    "    testing_stats[m.model_name] = pd.read_csv(m.model_config.model_src + '/test/losses.csv')\n",
    "    model_results[m.model_name] = np.load(m.model_config.model_src + '/test/y_pred.npy'), np.load(m.model_config.model_src + '/test/y_test.npy')\n",
    "    del m"
   ],
   "id": "ac151020b92b2de4"
  },
  {
   "metadata": {},
   "cell_type": "code",
   "outputs": [],
   "execution_count": null,
   "source": "",
   "id": "ee9a7748ab769250"
  }
 ],
 "metadata": {
  "kernelspec": {
   "display_name": "Python 3",
   "language": "python",
   "name": "python3"
  },
  "language_info": {
   "codemirror_mode": {
    "name": "ipython",
    "version": 2
   },
   "file_extension": ".py",
   "mimetype": "text/x-python",
   "name": "python",
   "nbconvert_exporter": "python",
   "pygments_lexer": "ipython2",
   "version": "2.7.6"
  }
 },
 "nbformat": 4,
 "nbformat_minor": 5
}
